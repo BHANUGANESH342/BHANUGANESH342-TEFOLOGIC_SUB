{
 "cells": [
  {
   "cell_type": "code",
   "execution_count": 1,
   "id": "3f5d3d63-547f-4035-b6db-773dbd47254f",
   "metadata": {},
   "outputs": [],
   "source": [
    "%%capture\n",
    "!pip install scikit-plot"
   ]
  },
  {
   "cell_type": "code",
   "execution_count": 6,
   "id": "4afeee6f-f080-42cd-a75b-b4bda762720e",
   "metadata": {},
   "outputs": [
    {
     "ename": "ModuleNotFoundError",
     "evalue": "No module named 'plotly'",
     "output_type": "error",
     "traceback": [
      "\u001b[1;31m---------------------------------------------------------------------------\u001b[0m",
      "\u001b[1;31mModuleNotFoundError\u001b[0m                       Traceback (most recent call last)",
      "Cell \u001b[1;32mIn[6], line 27\u001b[0m\n\u001b[0;32m     25\u001b[0m \u001b[38;5;28;01mfrom\u001b[39;00m \u001b[38;5;21;01msklearn\u001b[39;00m\u001b[38;5;21;01m.\u001b[39;00m\u001b[38;5;21;01mmetrics\u001b[39;00m \u001b[38;5;28;01mimport\u001b[39;00m accuracy_score\n\u001b[0;32m     26\u001b[0m \u001b[38;5;28;01mfrom\u001b[39;00m \u001b[38;5;21;01mkeras\u001b[39;00m\u001b[38;5;21;01m.\u001b[39;00m\u001b[38;5;21;01mregularizers\u001b[39;00m \u001b[38;5;28;01mimport\u001b[39;00m l1, l2\n\u001b[1;32m---> 27\u001b[0m \u001b[38;5;28;01mimport\u001b[39;00m \u001b[38;5;21;01mplotly\u001b[39;00m\u001b[38;5;21;01m.\u001b[39;00m\u001b[38;5;21;01mexpress\u001b[39;00m \u001b[38;5;28;01mas\u001b[39;00m \u001b[38;5;21;01mpx\u001b[39;00m\n\u001b[0;32m     28\u001b[0m \u001b[38;5;28;01mfrom\u001b[39;00m \u001b[38;5;21;01mmatplotlib\u001b[39;00m \u001b[38;5;28;01mimport\u001b[39;00m pyplot \u001b[38;5;28;01mas\u001b[39;00m plt\n\u001b[0;32m     29\u001b[0m \u001b[38;5;28;01mfrom\u001b[39;00m \u001b[38;5;21;01msklearn\u001b[39;00m\u001b[38;5;21;01m.\u001b[39;00m\u001b[38;5;21;01mmetrics\u001b[39;00m \u001b[38;5;28;01mimport\u001b[39;00m confusion_matrix\n",
      "\u001b[1;31mModuleNotFoundError\u001b[0m: No module named 'plotly'"
     ]
    }
   ],
   "source": [
    "import pandas as pd\n",
    "import numpy as np\n",
    "import scikitplot\n",
    "import random\n",
    "import seaborn as sns\n",
    "import keras\n",
    "import os\n",
    "from matplotlib import pyplot\n",
    "import matplotlib.pyplot as plt\n",
    "import tensorflow as tf\n",
    "from tensorflow.keras.utils import plot_model\n",
    "import warnings\n",
    "from tensorflow.keras.models import Sequential\n",
    "from keras.callbacks import EarlyStopping\n",
    "from keras import regularizers\n",
    "from keras.callbacks import ModelCheckpoint,EarlyStopping\n",
    "from tensorflow.keras.optimizers import Adam,RMSprop,SGD,Adamax\n",
    "from tensorflow.keras.preprocessing.image import ImageDataGenerator\n",
    "from keras.layers import Conv2D, MaxPool2D, Flatten,Dense,Dropout,BatchNormalization,MaxPooling2D,Activation,Input\n",
    "from sklearn.model_selection import train_test_split\n",
    "from sklearn.preprocessing import StandardScaler\n",
    "warnings.simplefilter(\"ignore\")\n",
    "from keras.models import Model\n",
    "from sklearn.model_selection import train_test_split\n",
    "from sklearn.metrics import accuracy_score\n",
    "from keras.regularizers import l1, l2\n",
    "import plotly.express as px\n",
    "from matplotlib import pyplot as plt\n",
    "from sklearn.metrics import confusion_matrix\n",
    "from sklearn.metrics import classification_report\n"
   ]
  },
  {
   "cell_type": "code",
   "execution_count": null,
   "id": "f0847bc1-01bf-4d57-8b66-c71fb7352b3e",
   "metadata": {},
   "outputs": [],
   "source": [
    "data = pd.read_csv(\"../input/fer2013/fer2013.csv\")\n",
    "data.shape\n"
   ]
  },
  {
   "cell_type": "code",
   "execution_count": null,
   "id": "5a49453b-a4ac-444e-868a-364035c9820d",
   "metadata": {},
   "outputs": [],
   "source": [
    "data.isnull().sum()"
   ]
  },
  {
   "cell_type": "code",
   "execution_count": null,
   "id": "207f0e1c-bd6b-462f-b5bf-1def92f15349",
   "metadata": {},
   "outputs": [],
   "source": [
    "data.head()\n"
   ]
  },
  {
   "cell_type": "code",
   "execution_count": null,
   "id": "5de40e28-d766-4394-9945-1d868b4ae7fb",
   "metadata": {},
   "outputs": [],
   "source": [
    "CLASS_LABELS  = ['Anger', 'Disgust', 'Fear', 'Happy', 'Neutral', 'Sadness', \"Surprise\"]\n",
    "fig = px.bar(x = CLASS_LABELS,\n",
    "             y = [list(data['emotion']).count(i) for i in np.unique(data['emotion'])] , \n",
    "             color = np.unique(data['emotion']) ,\n",
    "             color_continuous_scale=\"Emrld\") \n",
    "fig.update_xaxes(title=\"Emotions\")\n",
    "fig.update_yaxes(title = \"Number of Images\")\n",
    "fig.update_layout(showlegend = True,\n",
    "    title = {\n",
    "        'text': 'Train Data Distribution ',\n",
    "        'y':0.95,\n",
    "        'x':0.5,\n",
    "        'xanchor': 'center',\n",
    "        'yanchor': 'top'})\n",
    "fig.show()"
   ]
  },
  {
   "cell_type": "code",
   "execution_count": null,
   "id": "657d227a-d349-4c15-9364-c1e140bfd0ed",
   "metadata": {},
   "outputs": [],
   "source": [
    "data = data.sample(frac=1)\n"
   ]
  },
  {
   "cell_type": "code",
   "execution_count": null,
   "id": "874444e7-eb26-4e18-b962-57fa9cd6e6ab",
   "metadata": {},
   "outputs": [],
   "source": [
    "labels = to_categorical(data[['emotion']], num_classes=7)\n"
   ]
  },
  {
   "cell_type": "code",
   "execution_count": null,
   "id": "cb8ecdca-91f5-4d0c-a511-7b3fbe5e0c16",
   "metadata": {},
   "outputs": [],
   "source": [
    "train_pixels = data[\"pixels\"].astype(str).str.split(\" \").tolist()\n",
    "train_pixels = np.uint8(train_pixels)"
   ]
  },
  {
   "cell_type": "code",
   "execution_count": null,
   "id": "c5ef3bda-b32b-449f-9f43-112627a2e350",
   "metadata": {},
   "outputs": [],
   "source": [
    "pixels = train_pixels.reshape((35887*2304,1))\n"
   ]
  },
  {
   "cell_type": "code",
   "execution_count": null,
   "id": "30ca95f6-f364-485d-82f5-bd22f7359855",
   "metadata": {},
   "outputs": [],
   "source": [
    "X_train, X_test, y_train, y_test = train_test_split(pixels, labels, test_size=0.1, shuffle=False)\n",
    "X_train, X_val, y_train, y_val = train_test_split(X_train, y_train, test_size=0.1, shuffle=False)"
   ]
  },
  {
   "cell_type": "code",
   "execution_count": null,
   "id": "a047aadb-9c9d-4309-8580-cb33973d5c97",
   "metadata": {},
   "outputs": [],
   "source": [
    "print(X_train.shape)\n",
    "print(X_test.shape)\n",
    "print(X_val.shape)"
   ]
  },
  {
   "cell_type": "code",
   "execution_count": null,
   "id": "c3d482e2-fa04-4117-9590-92a194e96498",
   "metadata": {},
   "outputs": [],
   "source": [
    "plt.figure(figsize=(15,23))\n",
    "label_dict = {0 : 'Angry', 1 : 'Disgust', 2 : 'Fear', 3 : 'Happiness', 4 : 'Sad', 5 : 'Surprise', 6 : 'Neutral'}\n",
    "i = 1\n",
    "for i in range (7):\n",
    "    img = np.squeeze(X_train[i])\n",
    "    plt.subplot(1,7,i+1)\n",
    "    plt.imshow(img)\n",
    "    index = np.argmax(y_train[i])\n",
    "    plt.title(label_dict[index])\n",
    "    plt.axis('off')\n",
    "    i += 1\n",
    "plt.show()"
   ]
  },
  {
   "cell_type": "code",
   "execution_count": null,
   "id": "1d025ba1-c7c5-428e-9935-63c787a190ae",
   "metadata": {},
   "outputs": [],
   "source": [
    "datagen = ImageDataGenerator(  width_shift_range = 0.1,\n",
    "                               height_shift_range = 0.1,\n",
    "                               horizontal_flip = True,\n",
    "                               zoom_range = 0.2)\n",
    "valgen = ImageDataGenerator(   width_shift_range = 0.1,\n",
    "                               height_shift_range = 0.1,\n",
    "                               horizontal_flip = True,\n",
    "                               zoom_range = 0.2) "
   ]
  },
  {
   "cell_type": "code",
   "execution_count": null,
   "id": "0424862a-cb33-4b1e-ada3-3a97266c0567",
   "metadata": {},
   "outputs": [],
   "source": [
    "datagen.fit(X_train)\n",
    "valgen.fit(X_val)"
   ]
  },
  {
   "cell_type": "code",
   "execution_count": null,
   "id": "22445f6e-9dd8-495d-b943-862a02035265",
   "metadata": {},
   "outputs": [],
   "source": [
    "train_generator = datagen.flow(X_train, y_train, batch_size=64)\n",
    "val_generator = datagen.flow(X_val, y_val, batch_size=64)"
   ]
  },
  {
   "cell_type": "code",
   "execution_count": null,
   "id": "2f61dcb1-e26d-4c86-babd-5faabb4ad3ad",
   "metadata": {},
   "outputs": [],
   "source": [
    "def cnn_model():\n",
    "\n",
    "  model= tf.keras.models.Sequential()\n",
    "  model.add(Conv2D(32, kernel_size=(3, 3), padding='same', activation='relu', input_shape=(48, 48,1)))\n",
    "  model.add(Conv2D(64,(3,3), padding='same', activation='relu' ))\n",
    "  model.add(BatchNormalization())\n",
    "  model.add(MaxPool2D(pool_size=(2, 2)))\n",
    "  model.add(Dropout(0.25))\n",
    "\n",
    "  model.add(Conv2D(128,(5,5), padding='same', activation='relu'))\n",
    "  model.add(BatchNormalization())\n",
    "  model.add(MaxPool2D(pool_size=(2, 2)))\n",
    "  model.add(Dropout(0.25))\n",
    "      \n",
    "  model.add(Conv2D(512,(3,3), padding='same', activation='relu', kernel_regularizer=regularizers.l2(0.01)))\n",
    "  model.add(BatchNormalization())\n",
    "  model.add(MaxPool2D(pool_size=(2, 2)))\n",
    "  model.add(Dropout(0.25))\n",
    "\n",
    "  model.add(Conv2D(512,(3,3), padding='same', activation='relu', kernel_regularizer=regularizers.l2(0.01)))\n",
    "  model.add(BatchNormalization())\n",
    "  model.add(MaxPool2D(pool_size=(2, 2)))\n",
    "  model.add(Dropout(0.25))\n",
    " \n",
    "  model.add(Conv2D(512,(3,3), padding='same', activation='relu', kernel_regularizer=regularizers.l2(0.01)))\n",
    "  model.add(BatchNormalization())\n",
    "  model.add(MaxPool2D(pool_size=(2, 2)))\n",
    "  model.add(Dropout(0.25))\n",
    "\n",
    "  model.add(Flatten()) \n",
    "  model.add(Dense(256,activation = 'relu'))\n",
    "  model.add(BatchNormalization())\n",
    "  model.add(Dropout(0.25))\n",
    "      \n",
    "  model.add(Dense(512,activation = 'relu'))\n",
    "  model.add(BatchNormalization())\n",
    "  model.add(Dropout(0.25))\n",
    "\n",
    "  model.add(Dense(7, activation='softmax'))\n",
    "  model.compile(\n",
    "    optimizer = Adam(lr=0.0001), \n",
    "    loss='categorical_crossentropy', \n",
    "    metrics=['accuracy'])\n",
    "  return model"
   ]
  },
  {
   "cell_type": "code",
   "execution_count": null,
   "id": "1b7d84c8-78b3-496a-97ac-0574b53ed248",
   "metadata": {},
   "outputs": [],
   "source": [
    "model = cnn_model()"
   ]
  },
  {
   "cell_type": "code",
   "execution_count": null,
   "id": "6e04f141-49fe-44ff-93b8-7b5cda094539",
   "metadata": {},
   "outputs": [],
   "source": [
    "model.compile(\n",
    "    optimizer = Adam(lr=0.0001), \n",
    "    loss='categorical_crossentropy', \n",
    "    metrics=['accuracy'])"
   ]
  },
  {
   "cell_type": "code",
   "execution_count": null,
   "id": "4617d908-bb97-45a6-bf89-82c1fd9f33f7",
   "metadata": {},
   "outputs": [],
   "source": [
    "model.summary()"
   ]
  },
  {
   "cell_type": "code",
   "execution_count": null,
   "id": "a9646f53-28bc-41cf-b69c-3ce29a538324",
   "metadata": {},
   "outputs": [],
   "source": [
    "checkpointer = [EarlyStopping(monitor = 'val_accuracy', verbose = 1, \n",
    "                              restore_best_weights=True,mode=\"max\",patience = 5),\n",
    "                ModelCheckpoint('best_model.h5',monitor=\"val_accuracy\",verbose=1,\n",
    "                                save_best_only=True,mode=\"max\")]\n"
   ]
  },
  {
   "cell_type": "code",
   "execution_count": null,
   "id": "942d9fab-adfb-4ef9-ba99-f4c7fde149f7",
   "metadata": {},
   "outputs": [],
   "source": [
    "history = model.fit(train_generator,\n",
    "                    epochs=30,\n",
    "                    batch_size=64,   \n",
    "                    verbose=1,\n",
    "                    callbacks=[checkpointer],\n",
    "                    validation_data=val_generator)"
   ]
  },
  {
   "cell_type": "code",
   "execution_count": null,
   "id": "7579b840-4cde-4233-98e2-2a84426e1d71",
   "metadata": {},
   "outputs": [],
   "source": [
    "plt.plot(history.history[\"loss\"],'r', label=\"Training Loss\")\n",
    "plt.plot(history.history[\"val_loss\"],'b', label=\"Validation Loss\")\n",
    "plt.legend()"
   ]
  },
  {
   "cell_type": "code",
   "execution_count": null,
   "id": "214a6b61-f818-4711-a60f-41519cf921a8",
   "metadata": {},
   "outputs": [],
   "source": [
    "plt.plot(history.history[\"accuracy\"],'r',label=\"Training Accuracy\")\n",
    "plt.plot(history.history[\"val_accuracy\"],'b',label=\"Validation Accuracy\")\n",
    "plt.legend()"
   ]
  },
  {
   "cell_type": "code",
   "execution_count": null,
   "id": "8911af5e-49d8-48e3-baec-fc4543163308",
   "metadata": {},
   "outputs": [],
   "source": [
    "loss = model.evaluate(X_test,y_test) \n",
    "print(\"Test Acc: \" + str(loss[1]))"
   ]
  },
  {
   "cell_type": "code",
   "execution_count": null,
   "id": "46415321-7fac-4f77-ae12-f09ff975419c",
   "metadata": {},
   "outputs": [],
   "source": [
    "preds = model.predict(X_test)\n",
    "y_pred = np.argmax(preds , axis = 1 )"
   ]
  },
  {
   "cell_type": "code",
   "execution_count": null,
   "id": "38023f04-8e52-469a-b3fd-2007880d5e4f",
   "metadata": {},
   "outputs": [],
   "source": [
    "label_dict = {0 : 'Angry', 1 : 'Disgust', 2 : 'Fear', 3 : 'Happiness', 4 : 'Sad', 5 : 'Surprise', 6 : 'Neutral'}\n",
    "\n",
    "figure = plt.figure(figsize=(20, 8))\n",
    "for i, index in enumerate(np.random.choice(X_test.shape[0], size=24, replace=False)):\n",
    "    ax = figure.add_subplot(4, 6, i + 1, xticks=[], yticks=[])\n",
    "    ax.imshow(np.squeeze(X_test[index]))\n",
    "    predict_index = label_dict[(y_pred[index])]\n",
    "    true_index = label_dict[np.argmax(y_test,axis=1)[index]]\n",
    "    \n",
    "    ax.set_title(\"{} ({})\".format((predict_index), \n",
    "                                  (true_index)),\n",
    "                                  color=(\"green\" if predict_index == true_index else \"red\"))"
   ]
  },
  {
   "cell_type": "code",
   "execution_count": null,
   "id": "4a1dab51-44f5-4952-9fec-9e898d15aaa0",
   "metadata": {},
   "outputs": [],
   "source": [
    "CLASS_LABELS  = ['Anger', 'Disgust', 'Fear', 'Happy', 'Neutral', 'Sadness', \"Surprise\"]\n",
    "\n",
    "cm_data = confusion_matrix(np.argmax(y_test, axis = 1 ), y_pred)\n",
    "cm = pd.DataFrame(cm_data, columns=CLASS_LABELS, index = CLASS_LABELS)\n",
    "cm.index.name = 'Actual'\n",
    "cm.columns.name = 'Predicted'\n",
    "plt.figure(figsize = (15,10))\n",
    "plt.title('Confusion Matrix', fontsize = 20)\n",
    "sns.set(font_scale=1.2)\n",
    "ax = sns.heatmap(cm, cbar=False, cmap=\"Blues\", annot=True, annot_kws={\"size\": 16}, fmt='g')"
   ]
  },
  {
   "cell_type": "code",
   "execution_count": null,
   "id": "1ae463f9-2df8-48ca-9c95-e550331f3bf1",
   "metadata": {},
   "outputs": [],
   "source": [
    "from sklearn.metrics import classification_report\n",
    "print(classification_report(np.argmax(y_test, axis = 1 ),y_pred,digits=3))"
   ]
  },
  {
   "cell_type": "code",
   "execution_count": null,
   "id": "c95c83df-5348-4240-ae70-160dfda3ee88",
   "metadata": {},
   "outputs": [],
   "source": [
    "model = cnn_model()\n",
    "model.compile(optimizer=tf.keras.optimizers.SGD(0.001),\n",
    "                loss='categorical_crossentropy',\n",
    "                metrics = ['accuracy'])"
   ]
  },
  {
   "cell_type": "code",
   "execution_count": null,
   "id": "d9aa26a0-efa6-4006-a91b-fdbabb3539e5",
   "metadata": {},
   "outputs": [],
   "source": [
    "history = model.fit(train_generator,\n",
    "                    epochs=30,\n",
    "                    batch_size=64,   \n",
    "                    verbose=1,\n",
    "                    callbacks=[checkpointer],\n",
    "                    validation_data=val_generator)"
   ]
  },
  {
   "cell_type": "code",
   "execution_count": null,
   "id": "e1df71ff-a5c5-4ee8-be8b-b538c807658d",
   "metadata": {},
   "outputs": [],
   "source": [
    "loss = model.evaluate(X_test,y_test) \n",
    "print(\"Test Acc: \" + str(loss[1]))"
   ]
  },
  {
   "cell_type": "code",
   "execution_count": null,
   "id": "1cdf4552-e996-4fc5-a513-81fdbdf7918b",
   "metadata": {},
   "outputs": [],
   "source": [
    "plt.plot(history.history[\"loss\"],'r', label=\"Training Loss\")\n",
    "plt.plot(history.history[\"val_loss\"],'b', label=\"Validation Loss\")\n",
    "plt.legend()"
   ]
  },
  {
   "cell_type": "code",
   "execution_count": null,
   "id": "ad56c24c-5a16-4c79-97ee-5092503ad44b",
   "metadata": {},
   "outputs": [],
   "source": [
    "plt.plot(history.history[\"accuracy\"],'r',label=\"Training Accuracy\")\n",
    "plt.plot(history.history[\"val_accuracy\"],'b',label=\"Validation Accuracy\")\n",
    "plt.legend()"
   ]
  },
  {
   "cell_type": "code",
   "execution_count": null,
   "id": "8f116316-d633-4bee-a964-28c15a5ddc30",
   "metadata": {},
   "outputs": [],
   "source": [
    "model = cnn_model()"
   ]
  },
  {
   "cell_type": "code",
   "execution_count": null,
   "id": "f5dd5e0a-3528-4652-8ed7-299451700b51",
   "metadata": {},
   "outputs": [],
   "source": [
    "model.compile(\n",
    "    optimizer = Adam(lr=0.0001), \n",
    "    loss='categorical_crossentropy', \n",
    "    metrics=['accuracy'])"
   ]
  },
  {
   "cell_type": "code",
   "execution_count": null,
   "id": "87bfb6be-e9db-433c-9bda-a298fc44bce6",
   "metadata": {},
   "outputs": [],
   "source": [
    "checkpointer = [EarlyStopping(monitor = 'val_accuracy', verbose = 1, \n",
    "                              restore_best_weights=True,mode=\"max\",patience = 10),\n",
    "                              ModelCheckpoint('best_model.h5',monitor=\"val_accuracy\",verbose=1,\n",
    "                              save_best_only=True,mode=\"max\")]"
   ]
  },
  {
   "cell_type": "code",
   "execution_count": null,
   "id": "58e170c8-3cf3-4ba1-a885-c68758a7f770",
   "metadata": {},
   "outputs": [],
   "source": [
    "history = model.fit(train_generator,\n",
    "                    epochs=50,\n",
    "                    batch_size=64,   \n",
    "                    verbose=1,\n",
    "                    callbacks=[checkpointer],\n",
    "                    validation_data=val_generator)"
   ]
  },
  {
   "cell_type": "code",
   "execution_count": null,
   "id": "dbdea72e-bbdc-4b55-b6b9-fa660eb4b182",
   "metadata": {},
   "outputs": [],
   "source": [
    "loss = model.evaluate(X_test,y_test) \n",
    "print(\"Test Acc: \" + str(loss[1]))"
   ]
  },
  {
   "cell_type": "code",
   "execution_count": null,
   "id": "46955e5d-6a75-4d5e-a2b4-5637cdaff0b1",
   "metadata": {},
   "outputs": [],
   "source": [
    "preds = model.predict(X_test)\n",
    "y_pred = np.argmax(preds , axis = 1 )"
   ]
  },
  {
   "cell_type": "code",
   "execution_count": null,
   "id": "277f7eff-0579-4831-835b-8187d6bab2f8",
   "metadata": {},
   "outputs": [],
   "source": [
    "CLASS_LABELS  = ['Anger', 'Disgust', 'Fear', 'Happy', 'Neutral', 'Sadness', \"Surprise\"]\n",
    "\n",
    "cm_data = confusion_matrix(np.argmax(y_test, axis = 1 ), y_pred)\n",
    "cm = pd.DataFrame(cm_data, columns=CLASS_LABELS, index = CLASS_LABELS)\n",
    "cm.index.name = 'Actual'\n",
    "cm.columns.name = 'Predicted'\n",
    "plt.figure(figsize = (20,10))\n",
    "plt.title('Confusion Matrix', fontsize = 20)\n",
    "sns.set(font_scale=1.2)\n",
    "ax = sns.heatmap(cm, cbar=False, cmap=\"Blues\", annot=True, annot_kws={\"size\": 16}, fmt='g')"
   ]
  },
  {
   "cell_type": "code",
   "execution_count": null,
   "id": "52d0cff6-9bf3-473c-b47a-235e1d552ca2",
   "metadata": {},
   "outputs": [],
   "source": [
    "print(classification_report(np.argmax(y_test, axis = 1 ),y_pred,digits=3))"
   ]
  },
  {
   "cell_type": "code",
   "execution_count": null,
   "id": "e8166ea7-2a1f-40fc-a87a-384df370a7e6",
   "metadata": {},
   "outputs": [],
   "source": []
  }
 ],
 "metadata": {
  "kernelspec": {
   "display_name": "Python 3 (ipykernel)",
   "language": "python",
   "name": "python3"
  },
  "language_info": {
   "codemirror_mode": {
    "name": "ipython",
    "version": 3
   },
   "file_extension": ".py",
   "mimetype": "text/x-python",
   "name": "python",
   "nbconvert_exporter": "python",
   "pygments_lexer": "ipython3",
   "version": "3.11.7"
  }
 },
 "nbformat": 4,
 "nbformat_minor": 5
}
